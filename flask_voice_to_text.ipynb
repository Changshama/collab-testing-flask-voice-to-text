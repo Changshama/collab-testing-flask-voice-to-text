{
  "nbformat": 4,
  "nbformat_minor": 0,
  "metadata": {
    "colab": {
      "name": "flask-voice-to-text.ipynb",
      "provenance": [],
      "collapsed_sections": []
    },
    "kernelspec": {
      "name": "python3",
      "display_name": "Python 3"
    },
    "language_info": {
      "name": "python"
    }
  },
  "cells": [
    {
      "cell_type": "code",
      "execution_count": null,
      "metadata": {
        "id": "Z50JlaFBLteJ"
      },
      "outputs": [],
      "source": [
        "!pip install flask==0.12.2\n",
        "# running flask app in colab using ngrok\n",
        "!pip install pyngrok"
      ]
    },
    {
      "cell_type": "code",
      "source": [
        "# speech recognition module\n",
        "!pip install SpeechRecognition"
      ],
      "metadata": {
        "id": "MFySDMBOL-eS"
      },
      "execution_count": null,
      "outputs": []
    },
    {
      "cell_type": "code",
      "source": [
        "from flask import Flask, render_template, request, redirect\n",
        "import speech_recognition as sr\n",
        "from pyngrok import ngrok\n",
        "import os "
      ],
      "metadata": {
        "id": "ZVljmXzHMOp7"
      },
      "execution_count": null,
      "outputs": []
    },
    {
      "cell_type": "code",
      "source": [
        "os.environ[\"FLASK_ENV\"] = \"development\"\n",
        "app = Flask(__name__)\n",
        "port = 5000\n",
        "\n",
        "#Setting an auth token\n",
        "ngrok.set_auth_token(\"YOUR_TOKEN\")\n",
        "# Open a ngrok tunnel to the HTTP server\n",
        "public_url = ngrok.connect(port).public_url\n",
        "print(\" * ngrok tunnel \\\"{}\\\" -> \\\"http://127.0.0.1:{}\\\"\".format(public_url, port))\n",
        "# Update any base URLs to use the public ngrok URL\n",
        "app.config[\"BASE_URL\"] = public_url"
      ],
      "metadata": {
        "id": "RmGzhZZIMd_W"
      },
      "execution_count": null,
      "outputs": []
    },
    {
      "cell_type": "code",
      "source": [
        "# Define Flask routes\n",
        "@app.route(\"/\", methods=[\"GET\", \"POST\"])\n",
        "def index():\n",
        "    transcript = \"\"\n",
        "    if request.method == \"POST\":\n",
        "        print(\"FORM DATA RECEIVED\")\n",
        "\n",
        "        if \"file\" not in request.files:\n",
        "            return redirect(request.url)\n",
        "\n",
        "        file = request.files[\"file\"]\n",
        "        if file.filename == \"\":\n",
        "            return redirect(request.url)\n",
        "\n",
        "        if file:\n",
        "            recognizer = sr.Recognizer()\n",
        "            audioFile = sr.AudioFile(file)\n",
        "            with audioFile as source:\n",
        "                data = recognizer.record(source)\n",
        "            transcript = recognizer.recognize_google(data, key=None)\n",
        "\n",
        "    return render_template('index.html', transcript=transcript)"
      ],
      "metadata": {
        "id": "48eW2QpUMEwh"
      },
      "execution_count": null,
      "outputs": []
    },
    {
      "cell_type": "code",
      "source": [
        "# Start the Flask server in a new thread\n",
        "app.run()"
      ],
      "metadata": {
        "id": "H-WgpsB8ML2L"
      },
      "execution_count": null,
      "outputs": []
    }
  ]
}